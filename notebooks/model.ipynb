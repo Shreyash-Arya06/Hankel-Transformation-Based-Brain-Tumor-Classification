{
 "cells": [
  {
   "cell_type": "markdown",
   "id": "bc2b2d53",
   "metadata": {},
   "source": [
    "## We will train the Random Forest Classifier model in 3 different ways\n",
    "1. Unweighted\n",
    "2. Class-Weighted\n",
    "3. SMOTE-Augmented"
   ]
  },
  {
   "cell_type": "markdown",
   "id": "424d6bb0",
   "metadata": {},
   "source": [
    "### Unweighted Random Forest Classifier"
   ]
  },
  {
   "cell_type": "code",
   "execution_count": 1,
   "id": "310b108a",
   "metadata": {},
   "outputs": [],
   "source": [
    "import os\n",
    "import pandas as pd\n",
    "from sklearn.model_selection import train_test_split"
   ]
  },
  {
   "cell_type": "code",
   "execution_count": null,
   "id": "14b4e623",
   "metadata": {},
   "outputs": [],
   "source": [
    "# To maintain uniformity across multiple iterations\n",
    "RANDOM_SEED = 42"
   ]
  },
  {
   "cell_type": "code",
   "execution_count": 3,
   "id": "698cce4c",
   "metadata": {},
   "outputs": [],
   "source": [
    "pos_df = pd.read_csv(\"../dataset/combined_extracted/custom_feature/positive.csv\")\n",
    "neg_df = pd.read_csv(\"../dataset/combined_extracted/custom_feature/negative.csv\")\n",
    "\n",
    "pos_df['label'] = 1\n",
    "neg_df['label'] = 0"
   ]
  },
  {
   "cell_type": "code",
   "execution_count": 4,
   "id": "5e4caab9",
   "metadata": {},
   "outputs": [
    {
     "name": "stdout",
     "output_type": "stream",
     "text": [
      "Train: 3134, Validation: 672, Test: 672\n"
     ]
    }
   ],
   "source": [
    "# Dividing the dataset in 3 parts - Train set, Validation set ans Test set\n",
    "\n",
    "full_df = pd.concat([pos_df, neg_df], ignore_index=True)\n",
    "\n",
    "train_df, temp_df = train_test_split(\n",
    "    full_df, test_size=0.3, stratify=full_df['label'], random_state=RANDOM_SEED\n",
    ")\n",
    "val_df, test_df = train_test_split(\n",
    "    temp_df, test_size=0.5, stratify=temp_df['label'], random_state=RANDOM_SEED\n",
    ")\n",
    "\n",
    "train_df.reset_index(drop=True, inplace=True)\n",
    "val_df.reset_index(drop=True, inplace=True)\n",
    "test_df.reset_index(drop=True, inplace=True)\n",
    "\n",
    "print(f\"Train: {len(train_df)}, Validation: {len(val_df)}, Test: {len(test_df)}\")\n",
    "base = \"../dataset/model_data\"\n",
    "os.makedirs(base, exist_ok=True)\n",
    "train_df.to_csv(os.path.join(base, \"train_set.csv\"), index=False)\n",
    "val_df.to_csv(os.path.join(base, \"validation_set.csv\"), index=False)\n",
    "test_df.to_csv(os.path.join(base, \"test_set.csv\"), index=False)"
   ]
  },
  {
   "cell_type": "code",
   "execution_count": null,
   "id": "991496c0",
   "metadata": {},
   "outputs": [],
   "source": [
    "from sklearn.ensemble import RandomForestClassifier\n",
    "from sklearn.metrics import accuracy_score, classification_report\n",
    "from sklearn.model_selection import GridSearchCV"
   ]
  },
  {
   "cell_type": "code",
   "execution_count": 7,
   "id": "fb4a4b74",
   "metadata": {},
   "outputs": [
    {
     "name": "stdout",
     "output_type": "stream",
     "text": [
      "Training Accuracy: 1.0\n"
     ]
    }
   ],
   "source": [
    "# Training the model\n",
    "\n",
    "features = [\"hankel_mean\", \"hankel_std\", \"hankel_skew\", \"hankel_kurtosis\", \"hankel_peak\"]\n",
    "\n",
    "X_train = train_df[features]\n",
    "y_train = train_df[\"label\"]\n",
    "\n",
    "clf = RandomForestClassifier(random_state=RANDOM_SEED)\n",
    "clf.fit(X_train, y_train)\n",
    "\n",
    "train_preds = clf.predict(X_train)\n",
    "print(\"Training Accuracy:\", accuracy_score(y_train, train_preds))"
   ]
  },
  {
   "cell_type": "code",
   "execution_count": 9,
   "id": "d364d6a2",
   "metadata": {},
   "outputs": [
    {
     "name": "stdout",
     "output_type": "stream",
     "text": [
      "Fitting 3 folds for each of 12 candidates, totalling 36 fits\n",
      "Validation Accuracy: 0.9122023809523809\n",
      "              precision    recall  f1-score   support\n",
      "\n",
      "           0       0.81      0.32      0.46        78\n",
      "           1       0.92      0.99      0.95       594\n",
      "\n",
      "    accuracy                           0.91       672\n",
      "   macro avg       0.86      0.66      0.71       672\n",
      "weighted avg       0.90      0.91      0.89       672\n",
      "\n"
     ]
    }
   ],
   "source": [
    "# Validating and fine tuning\n",
    "\n",
    "X_val = val_df[features]\n",
    "y_val = val_df[\"label\"]\n",
    "\n",
    "param_grid = {\n",
    "    'n_estimators': [100, 200],\n",
    "    'max_depth': [None, 10, 20],\n",
    "    'min_samples_split': [2, 5]\n",
    "}\n",
    "\n",
    "grid_search = GridSearchCV(\n",
    "    RandomForestClassifier(random_state=RANDOM_SEED),\n",
    "    param_grid,\n",
    "    cv=3,\n",
    "    scoring='accuracy',\n",
    "    n_jobs=-1,\n",
    "    verbose=1\n",
    ")\n",
    "grid_search.fit(X_train, y_train)\n",
    "\n",
    "best_model = grid_search.best_estimator_\n",
    "val_preds = best_model.predict(X_val)\n",
    "\n",
    "print(\"Validation Accuracy:\", accuracy_score(y_val, val_preds))\n",
    "print(classification_report(y_val, val_preds))"
   ]
  },
  {
   "cell_type": "code",
   "execution_count": 10,
   "id": "bca44db0",
   "metadata": {},
   "outputs": [
    {
     "name": "stdout",
     "output_type": "stream",
     "text": [
      "Test Accuracy: 0.8913690476190477\n",
      "              precision    recall  f1-score   support\n",
      "\n",
      "           0       0.59      0.25      0.35        79\n",
      "           1       0.91      0.98      0.94       593\n",
      "\n",
      "    accuracy                           0.89       672\n",
      "   macro avg       0.75      0.61      0.65       672\n",
      "weighted avg       0.87      0.89      0.87       672\n",
      "\n"
     ]
    }
   ],
   "source": [
    "# Testing\n",
    "\n",
    "X_test = test_df[features]\n",
    "y_test = test_df[\"label\"]\n",
    "\n",
    "test_preds = best_model.predict(X_test)\n",
    "\n",
    "print(\"Test Accuracy:\", accuracy_score(y_test, test_preds))\n",
    "print(classification_report(y_test, test_preds))\n"
   ]
  },
  {
   "cell_type": "markdown",
   "id": "0b298523",
   "metadata": {},
   "source": [
    "### Class-Weighted Random Forest Classifier"
   ]
  },
  {
   "cell_type": "code",
   "execution_count": 11,
   "id": "0aa9fd2e",
   "metadata": {},
   "outputs": [
    {
     "name": "stdout",
     "output_type": "stream",
     "text": [
      "Training Accuracy: 1.0\n"
     ]
    }
   ],
   "source": [
    "# Training the model\n",
    "\n",
    "features = [\"hankel_mean\", \"hankel_std\", \"hankel_skew\", \"hankel_kurtosis\", \"hankel_peak\"]\n",
    "\n",
    "X_train = train_df[features]\n",
    "y_train = train_df[\"label\"]\n",
    "\n",
    "clf = RandomForestClassifier(class_weight=\"balanced\", random_state=RANDOM_SEED)\n",
    "clf.fit(X_train, y_train)\n",
    "\n",
    "train_preds = clf.predict(X_train)\n",
    "print(\"Training Accuracy:\", accuracy_score(y_train, train_preds))"
   ]
  },
  {
   "cell_type": "code",
   "execution_count": 12,
   "id": "795bbb86",
   "metadata": {},
   "outputs": [
    {
     "name": "stdout",
     "output_type": "stream",
     "text": [
      "Fitting 3 folds for each of 12 candidates, totalling 36 fits\n",
      "Validation Accuracy: 0.8645833333333334\n",
      "              precision    recall  f1-score   support\n",
      "\n",
      "           0       0.43      0.53      0.47        78\n",
      "           1       0.94      0.91      0.92       594\n",
      "\n",
      "    accuracy                           0.86       672\n",
      "   macro avg       0.68      0.72      0.70       672\n",
      "weighted avg       0.88      0.86      0.87       672\n",
      "\n"
     ]
    }
   ],
   "source": [
    "# Validating and fine tuning\n",
    "\n",
    "X_val = val_df[features]\n",
    "y_val = val_df[\"label\"]\n",
    "\n",
    "param_grid = {\n",
    "    'n_estimators': [100, 200],\n",
    "    'max_depth': [None, 10, 20],\n",
    "    'min_samples_split': [2, 5]\n",
    "}\n",
    "\n",
    "grid_search = GridSearchCV(\n",
    "    RandomForestClassifier(class_weight=\"balanced\", random_state=RANDOM_SEED),\n",
    "    param_grid,\n",
    "    cv=3,\n",
    "    scoring='balanced_accuracy',\n",
    "    n_jobs=-1,\n",
    "    verbose=1\n",
    ")\n",
    "grid_search.fit(X_train, y_train)\n",
    "\n",
    "best_model = grid_search.best_estimator_\n",
    "val_preds = best_model.predict(X_val)\n",
    "\n",
    "print(\"Validation Accuracy:\", accuracy_score(y_val, val_preds))\n",
    "print(classification_report(y_val, val_preds))\n"
   ]
  },
  {
   "cell_type": "code",
   "execution_count": 13,
   "id": "b222be6c",
   "metadata": {},
   "outputs": [
    {
     "name": "stdout",
     "output_type": "stream",
     "text": [
      "Test Accuracy: 0.8735119047619048\n",
      "              precision    recall  f1-score   support\n",
      "\n",
      "           0       0.47      0.58      0.52        79\n",
      "           1       0.94      0.91      0.93       593\n",
      "\n",
      "    accuracy                           0.87       672\n",
      "   macro avg       0.71      0.75      0.72       672\n",
      "weighted avg       0.89      0.87      0.88       672\n",
      "\n"
     ]
    }
   ],
   "source": [
    "# Testing\n",
    "\n",
    "X_test = test_df[features]\n",
    "y_test = test_df[\"label\"]\n",
    "\n",
    "test_preds = best_model.predict(X_test)\n",
    "\n",
    "print(\"Test Accuracy:\", accuracy_score(y_test, test_preds))\n",
    "print(classification_report(y_test, test_preds))"
   ]
  },
  {
   "cell_type": "markdown",
   "id": "9ab3d7c1",
   "metadata": {},
   "source": [
    "### Random Forest Clkassifier with SMOTE-Augmentation"
   ]
  },
  {
   "cell_type": "code",
   "execution_count": 14,
   "id": "67868f4c",
   "metadata": {},
   "outputs": [],
   "source": [
    "from imblearn.over_sampling import SMOTE"
   ]
  },
  {
   "cell_type": "code",
   "execution_count": 15,
   "id": "5231d9cb",
   "metadata": {},
   "outputs": [
    {
     "name": "stdout",
     "output_type": "stream",
     "text": [
      "Training Accuracy: 1.0\n"
     ]
    }
   ],
   "source": [
    "# Training the model\n",
    "\n",
    "features = [\"hankel_mean\", \"hankel_std\", \"hankel_skew\", \"hankel_kurtosis\", \"hankel_peak\"]\n",
    "\n",
    "X_train = train_df[features]\n",
    "y_train = train_df[\"label\"]\n",
    "\n",
    "smote = SMOTE(random_state=RANDOM_SEED)\n",
    "X_train_resampled, y_train_resampled = smote.fit_resample(X_train, y_train)\n",
    "\n",
    "clf = RandomForestClassifier(random_state=RANDOM_SEED)\n",
    "clf.fit(X_train_resampled, y_train_resampled)\n",
    "\n",
    "train_preds = clf.predict(X_train)\n",
    "print(\"Training Accuracy:\", accuracy_score(y_train, train_preds))"
   ]
  },
  {
   "cell_type": "code",
   "execution_count": 16,
   "id": "4f8cf013",
   "metadata": {},
   "outputs": [
    {
     "name": "stdout",
     "output_type": "stream",
     "text": [
      "Fitting 3 folds for each of 12 candidates, totalling 36 fits\n",
      "Validation Accuracy: 0.8764880952380952\n",
      "              precision    recall  f1-score   support\n",
      "\n",
      "           0       0.48      0.63      0.54        78\n",
      "           1       0.95      0.91      0.93       594\n",
      "\n",
      "    accuracy                           0.88       672\n",
      "   macro avg       0.71      0.77      0.74       672\n",
      "weighted avg       0.89      0.88      0.88       672\n",
      "\n"
     ]
    }
   ],
   "source": [
    "# Validating and fine tuning\n",
    "\n",
    "X_val = val_df[features]\n",
    "y_val = val_df[\"label\"]\n",
    "\n",
    "param_grid = {\n",
    "    'n_estimators': [100, 200],\n",
    "    'max_depth': [None, 10, 20],\n",
    "    'min_samples_split': [2, 5]\n",
    "}\n",
    "\n",
    "grid_search = GridSearchCV(\n",
    "    RandomForestClassifier(random_state=RANDOM_SEED),\n",
    "    param_grid,\n",
    "    cv=3,\n",
    "    scoring='accuracy',\n",
    "    n_jobs=-1,\n",
    "    verbose=1\n",
    ")\n",
    "grid_search.fit(X_train_resampled, y_train_resampled)\n",
    "\n",
    "best_model = grid_search.best_estimator_\n",
    "val_preds = best_model.predict(X_val)\n",
    "\n",
    "print(\"Validation Accuracy:\", accuracy_score(y_val, val_preds))\n",
    "print(classification_report(y_val, val_preds))"
   ]
  },
  {
   "cell_type": "code",
   "execution_count": 17,
   "id": "46f01cfd",
   "metadata": {},
   "outputs": [
    {
     "name": "stdout",
     "output_type": "stream",
     "text": [
      "Test Accuracy: 0.8511904761904762\n",
      "              precision    recall  f1-score   support\n",
      "\n",
      "           0       0.41      0.59      0.48        79\n",
      "           1       0.94      0.89      0.91       593\n",
      "\n",
      "    accuracy                           0.85       672\n",
      "   macro avg       0.68      0.74      0.70       672\n",
      "weighted avg       0.88      0.85      0.86       672\n",
      "\n"
     ]
    }
   ],
   "source": [
    "# Testing\n",
    "\n",
    "X_test = test_df[features]\n",
    "y_test = test_df[\"label\"]\n",
    "\n",
    "test_preds = best_model.predict(X_test)\n",
    "\n",
    "print(\"Test Accuracy:\", accuracy_score(y_test, test_preds))\n",
    "print(classification_report(y_test, test_preds))"
   ]
  }
 ],
 "metadata": {
  "kernelspec": {
   "display_name": "Python 3",
   "language": "python",
   "name": "python3"
  },
  "language_info": {
   "codemirror_mode": {
    "name": "ipython",
    "version": 3
   },
   "file_extension": ".py",
   "mimetype": "text/x-python",
   "name": "python",
   "nbconvert_exporter": "python",
   "pygments_lexer": "ipython3",
   "version": "3.11.13"
  }
 },
 "nbformat": 4,
 "nbformat_minor": 5
}
