{
 "cells": [
  {
   "cell_type": "markdown",
   "id": "ab5b33da",
   "metadata": {},
   "source": [
    "### Classify raw dataset in two folders\n",
    "postive folder has images positive for tumor  \n",
    "negative folder has images negative for tumor\n",
    "\n",
    "Preprocessing: \n",
    "1. Converting all the images into grayscale\n",
    "2. Resizing all the images to maintain uniformity"
   ]
  },
  {
   "cell_type": "code",
   "execution_count": 2,
   "id": "932a159f",
   "metadata": {},
   "outputs": [],
   "source": [
    "import os\n",
    "from PIL import Image\n",
    "from tqdm import tqdm"
   ]
  },
  {
   "cell_type": "code",
   "execution_count": null,
   "id": "d132fca6",
   "metadata": {},
   "outputs": [
    {
     "name": "stdout",
     "output_type": "stream",
     "text": [
      "Processing raw dataset...\n"
     ]
    },
    {
     "name": "stderr",
     "output_type": "stream",
     "text": [
      "🖼️ Astrocitoma T1: 100%|██████████| 176/176 [00:00<00:00, 176.63it/s]\n",
      "🖼️ Astrocitoma T1C+: 100%|██████████| 232/232 [00:01<00:00, 164.34it/s]\n",
      "🖼️ Astrocitoma T2: 100%|██████████| 171/171 [00:00<00:00, 171.11it/s]\n",
      "🖼️ Carcinoma T1: 100%|██████████| 66/66 [00:00<00:00, 184.43it/s]\n",
      "🖼️ Carcinoma T1C+: 100%|██████████| 112/112 [00:00<00:00, 183.29it/s]\n",
      "🖼️ Carcinoma T2: 100%|██████████| 73/73 [00:00<00:00, 153.94it/s]\n",
      "🖼️ Ependimoma T1: 100%|██████████| 45/45 [00:00<00:00, 175.96it/s]\n",
      "🖼️ Ependimoma T1C+: 100%|██████████| 48/48 [00:00<00:00, 172.35it/s]\n",
      "🖼️ Ependimoma T2: 100%|██████████| 57/57 [00:00<00:00, 156.82it/s]\n",
      "🖼️ Ganglioglioma T1: 100%|██████████| 20/20 [00:00<00:00, 182.23it/s]\n",
      "🖼️ Ganglioglioma T1C+: 100%|██████████| 18/18 [00:00<00:00, 162.51it/s]\n",
      "🖼️ Ganglioglioma T2: 100%|██████████| 23/23 [00:00<00:00, 184.76it/s]\n",
      "🖼️ Germinoma T1: 100%|██████████| 27/27 [00:00<00:00, 175.88it/s]\n",
      "🖼️ Germinoma T1C+: 100%|██████████| 40/40 [00:00<00:00, 159.65it/s]\n",
      "🖼️ Germinoma T2: 100%|██████████| 33/33 [00:00<00:00, 143.25it/s]\n",
      "🖼️ Glioblastoma T1: 100%|██████████| 55/55 [00:00<00:00, 194.60it/s]\n",
      "🖼️ Glioblastoma T1C+: 100%|██████████| 94/94 [00:00<00:00, 166.49it/s]\n",
      "🖼️ Glioblastoma T2: 100%|██████████| 55/55 [00:00<00:00, 165.56it/s]\n",
      "🖼️ Granuloma T1: 100%|██████████| 30/30 [00:00<00:00, 159.69it/s]\n",
      "🖼️ Granuloma T1C+: 100%|██████████| 31/31 [00:00<00:00, 177.62it/s]\n",
      "🖼️ Granuloma T2: 100%|██████████| 17/17 [00:00<00:00, 175.87it/s]\n",
      "🖼️ Meduloblastoma T1: 100%|██████████| 23/23 [00:00<00:00, 140.70it/s]\n",
      "🖼️ Meduloblastoma T1C+: 100%|██████████| 67/67 [00:00<00:00, 152.59it/s]\n",
      "🖼️ Meduloblastoma T2: 100%|██████████| 41/41 [00:00<00:00, 140.22it/s]\n",
      "🖼️ Meningioma T1: 100%|██████████| 272/272 [00:01<00:00, 158.54it/s]\n",
      "🖼️ Meningioma T1C+: 100%|██████████| 369/369 [00:02<00:00, 174.61it/s]\n",
      "🖼️ Meningioma T2: 100%|██████████| 233/233 [00:01<00:00, 158.14it/s]\n",
      "🖼️ Neurocitoma T1: 100%|██████████| 130/130 [00:00<00:00, 170.37it/s]\n",
      "🖼️ Neurocitoma T1C+: 100%|██████████| 223/223 [00:01<00:00, 163.91it/s]\n",
      "🖼️ Neurocitoma T2: 100%|██████████| 104/104 [00:00<00:00, 149.53it/s]\n",
      "🖼️ Oligodendroglioma T1: 100%|██████████| 86/86 [00:00<00:00, 148.83it/s]\n",
      "🖼️ Oligodendroglioma T1C+: 100%|██████████| 72/72 [00:00<00:00, 166.00it/s]\n",
      "🖼️ Oligodendroglioma T2: 100%|██████████| 66/66 [00:00<00:00, 167.97it/s]\n",
      "🖼️ Papiloma T1: 100%|██████████| 66/66 [00:00<00:00, 168.84it/s]\n",
      "🖼️ Papiloma T1C+: 100%|██████████| 108/108 [00:00<00:00, 171.19it/s]\n",
      "🖼️ Papiloma T2: 100%|██████████| 63/63 [00:00<00:00, 153.75it/s]\n",
      "🖼️ Schwannoma T1: 100%|██████████| 148/148 [00:00<00:00, 159.91it/s]\n",
      "🖼️ Schwannoma T1C+: 100%|██████████| 194/194 [00:01<00:00, 168.73it/s]\n",
      "🖼️ Schwannoma T2: 100%|██████████| 123/123 [00:00<00:00, 161.00it/s]\n",
      "🖼️ Tuberculoma T1: 100%|██████████| 28/28 [00:00<00:00, 163.12it/s]\n",
      "🖼️ Tuberculoma T1C+: 100%|██████████| 84/84 [00:00<00:00, 151.18it/s]\n",
      "🖼️ Tuberculoma T2: 100%|██████████| 33/33 [00:00<00:00, 154.85it/s]\n",
      "🖼️ _NORMAL T1: 100%|██████████| 251/251 [00:01<00:00, 166.45it/s]\n",
      "🖼️ _NORMAL T2: 100%|██████████| 271/271 [00:02<00:00, 130.93it/s]\n",
      "Folders: 100%|██████████| 44/44 [00:27<00:00,  1.58it/s]\n"
     ]
    }
   ],
   "source": [
    "# Folder paths\n",
    "parent_folder = \"../dataset\"\n",
    "raw_data = os.path.join(parent_folder, \"raw_dataset\")\n",
    "processed_data = os.path.join(parent_folder, \"processed_dataset\")\n",
    "image_size = 512  # Resize dimension\n",
    "\n",
    "if os.path.exists(raw_data) and os.path.isdir(raw_data):\n",
    "    os.makedirs(processed_data, exist_ok=True)\n",
    "\n",
    "    # Create output folders\n",
    "    negative_path = os.path.join(processed_data, 'negative')\n",
    "    positive_path = os.path.join(processed_data, 'positive')\n",
    "    os.makedirs(negative_path, exist_ok=True)\n",
    "    os.makedirs(positive_path, exist_ok=True)\n",
    "\n",
    "    valid_extensions = ('.jpg', '.jpeg', '.png')\n",
    "\n",
    "    print(\"Processing raw dataset...\")\n",
    "\n",
    "    # Separate counters for naming\n",
    "    pos_count = 1\n",
    "    neg_count = 1\n",
    "\n",
    "    for folder_name in tqdm(os.listdir(raw_data), desc=\"Folders\"):\n",
    "        folder_path = os.path.join(raw_data, folder_name)\n",
    "        is_normal = folder_name.startswith('_')\n",
    "        target_folder = negative_path if is_normal else positive_path\n",
    "\n",
    "        image_files = [f for f in os.listdir(folder_path) if f.lower().endswith(valid_extensions)]\n",
    "\n",
    "        for file_name in tqdm(image_files, desc=f\"🖼️ {folder_name}\", leave=True):\n",
    "            file_path = os.path.join(folder_path, file_name)\n",
    "            try:\n",
    "                # Convert to grayscale and resize\n",
    "                img = Image.open(file_path).convert('L')\n",
    "                img = img.resize((image_size, image_size))\n",
    "                if is_normal:\n",
    "                    new_img_name = f\"{neg_count}.jpg\"\n",
    "                    neg_count += 1\n",
    "                else:\n",
    "                    new_img_name = f\"{pos_count}.jpg\"\n",
    "                    pos_count += 1\n",
    "\n",
    "                new_img_path = os.path.join(target_folder, new_img_name)\n",
    "                img.save(new_img_path)\n",
    "\n",
    "            except Exception as e:\n",
    "                print(f\"Error processing {file_path}: {e}\")\n",
    "else:\n",
    "    print(\"Raw data folder not found or invalid.\")"
   ]
  }
 ],
 "metadata": {
  "kernelspec": {
   "display_name": "Python 3",
   "language": "python",
   "name": "python3"
  },
  "language_info": {
   "codemirror_mode": {
    "name": "ipython",
    "version": 3
   },
   "file_extension": ".py",
   "mimetype": "text/x-python",
   "name": "python",
   "nbconvert_exporter": "python",
   "pygments_lexer": "ipython3",
   "version": "3.11.13"
  }
 },
 "nbformat": 4,
 "nbformat_minor": 5
}
